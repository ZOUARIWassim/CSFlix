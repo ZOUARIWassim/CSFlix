{
 "cells": [
  {
   "cell_type": "code",
   "execution_count": 137,
   "metadata": {},
   "outputs": [],
   "source": [
    "from utils import *\n",
    "from sklearn.preprocessing import StandardScaler, MinMaxScaler\n",
    "from sklearn.model_selection import train_test_split\n",
    "import torch\n",
    "import torch.nn as nn\n",
    "import torch.nn.functional as F\n",
    "import torch.optim as optim\n",
    "from torch.utils.data import Dataset, DataLoader\n",
    "import numpy as np\n",
    "import pickle"
   ]
  },
  {
   "cell_type": "code",
   "execution_count": 151,
   "metadata": {},
   "outputs": [],
   "source": [
    "DataFolder = 'Data/Small_Data'\n",
    "movies, users, moviesVecs, y = LoadData(DataFolder)\n",
    "\n",
    "numMoviesFeatures = movies.shape[1] - 1\n",
    "numUsersFeatures = users.shape[1] - 3\n",
    "\n",
    "movies = movies.iloc[:, 1:]\n",
    "users = users.iloc[:, 3:]\n"
   ]
  },
  {
   "cell_type": "code",
   "execution_count": 152,
   "metadata": {},
   "outputs": [],
   "source": [
    "scalerMovies = StandardScaler()\n",
    "scalerMovies.fit(movies)\n",
    "moviesScaled = scalerMovies.transform(movies)\n",
    "\n",
    "scalerUsers = StandardScaler()\n",
    "scalerUsers.fit(users)\n",
    "usersScaled = scalerUsers.transform(users)\n",
    "\n",
    "scalerY = MinMaxScaler()\n",
    "scalerY.fit(y)\n",
    "yScaled = scalerY.transform(y)\n",
    "\n",
    "moviesTrain, moviesTest, usersTrain, usersTest, yTrain, yTest = train_test_split(moviesScaled, usersScaled, yScaled, test_size=0.2, random_state=42)\n",
    "moviesTrain, moviesVal, usersTrain, usersVal, yTrain, yVal = train_test_split(moviesTrain, usersTrain, yTrain, test_size=0.2, random_state=42)\n"
   ]
  },
  {
   "cell_type": "code",
   "execution_count": 150,
   "metadata": {},
   "outputs": [],
   "source": [
    "batchSize = 32\n",
    "\n",
    "class MovieUserDataset(Dataset):\n",
    "    def __init__(self, movies, users, y):\n",
    "        self.movies = torch.tensor(movies, dtype=torch.float32)\n",
    "        self.users = torch.tensor(users, dtype=torch.float32)\n",
    "        self.targets = torch.tensor(y, dtype=torch.float32)\n",
    "\n",
    "    def __len__(self):\n",
    "        return len(self.targets)\n",
    "\n",
    "    def __getitem__(self, idx):\n",
    "        return self.movies[idx], self.users[idx], self.targets[idx]\n",
    "    \n",
    "trainDataset = MovieUserDataset(moviesTrain, usersTrain, yTrain)\n",
    "valDataset = MovieUserDataset(moviesVal, usersVal, yVal)\n",
    "testDataset = MovieUserDataset(moviesTest, usersTest, yTest)\n",
    "\n",
    "trainLoader = DataLoader(trainDataset, batch_size=batchSize, shuffle=True)\n",
    "valLoader = DataLoader(valDataset, batch_size=batchSize, shuffle=False)\n",
    "testLoader = DataLoader(testDataset, batch_size=batchSize, shuffle=False)"
   ]
  },
  {
   "cell_type": "code",
   "execution_count": 101,
   "metadata": {},
   "outputs": [],
   "source": [
    "numOutputs = 32\n",
    "\n",
    "class Model(nn.Module):\n",
    "    def __init__(self):\n",
    "        super(Model, self).__init__()\n",
    "        self.userNN = nn.Sequential(\n",
    "            nn.Linear(numUsersFeatures, 256),\n",
    "            nn.ReLU(),\n",
    "            nn.Linear(256, 128),\n",
    "            nn.ReLU(),\n",
    "            nn.Linear(128, numOutputs),\n",
    "        )\n",
    "        self.movieNN = nn.Sequential(\n",
    "            nn.Linear(numMoviesFeatures, 256),\n",
    "            nn.ReLU(),\n",
    "            nn.Linear(256, 128),\n",
    "            nn.ReLU(),\n",
    "            nn.Linear(128, numOutputs),\n",
    "        )\n",
    "        self.l2Norm = F.normalize\n",
    "    def forward(self, movies, users):\n",
    "        movieOut = self.movieNN(movies)\n",
    "        userOut = self.userNN(users)\n",
    "        moviesNorm = self.l2Norm(movieOut,p=2,dim=1)\n",
    "        usersNorm = self.l2Norm(userOut,p=2,dim=1)\n",
    "        similiarity = torch.sum(moviesNorm * usersNorm, dim=1)\n",
    "        similiarity = similiarity.view(-1, 1)\n",
    "        \n",
    "        return similiarity    \n"
   ]
  },
  {
   "cell_type": "code",
   "execution_count": 102,
   "metadata": {},
   "outputs": [],
   "source": [
    "Model = Model()"
   ]
  },
  {
   "cell_type": "code",
   "execution_count": 103,
   "metadata": {},
   "outputs": [],
   "source": [
    "optimizer = optim.Adam(Model.parameters(), lr=0.001)"
   ]
  },
  {
   "cell_type": "code",
   "execution_count": 104,
   "metadata": {},
   "outputs": [
    {
     "data": {
      "text/plain": [
       "Model(\n",
       "  (userNN): Sequential(\n",
       "    (0): Linear(in_features=14, out_features=256, bias=True)\n",
       "    (1): ReLU()\n",
       "    (2): Linear(in_features=256, out_features=128, bias=True)\n",
       "    (3): ReLU()\n",
       "    (4): Linear(in_features=128, out_features=32, bias=True)\n",
       "  )\n",
       "  (movieNN): Sequential(\n",
       "    (0): Linear(in_features=16, out_features=256, bias=True)\n",
       "    (1): ReLU()\n",
       "    (2): Linear(in_features=256, out_features=128, bias=True)\n",
       "    (3): ReLU()\n",
       "    (4): Linear(in_features=128, out_features=32, bias=True)\n",
       "  )\n",
       ")"
      ]
     },
     "execution_count": 104,
     "metadata": {},
     "output_type": "execute_result"
    }
   ],
   "source": [
    "if torch.cuda.is_available():\n",
    "    device = torch.device('cuda')\n",
    "else:\n",
    "    device = torch.device('cpu')\n",
    "\n",
    "Model.to(device)"
   ]
  },
  {
   "cell_type": "code",
   "execution_count": 80,
   "metadata": {},
   "outputs": [],
   "source": [
    "def train(model, optimizer, loss_fn, train_loader, val_loader, epochs, device=\"cpu\"):\n",
    "    for epoch in range(1, epochs+1):\n",
    "        trainLoss = 0\n",
    "        valLoss = 0\n",
    "        model.train()\n",
    "        for batch in train_loader:\n",
    "            movies, users, targets = batch\n",
    "            movies = movies.to(device)\n",
    "            users = users.to(device)\n",
    "            targets = targets.to(device)\n",
    "            optimizer.zero_grad()\n",
    "            output = model(movies, users)\n",
    "            loss = loss_fn(output, targets)\n",
    "            loss.backward()\n",
    "            optimizer.step()\n",
    "            trainLoss += loss.item() * targets.size(0)\n",
    "        trainLoss /= len(train_loader.dataset)\n",
    "        \n",
    "        model.eval()\n",
    "        for batch in val_loader:\n",
    "            movies, users, targets = batch\n",
    "            movies = movies.to(device)\n",
    "            users = users.to(device)\n",
    "            targets = targets.to(device)\n",
    "            output = model(movies, users)\n",
    "            loss = loss_fn(output, targets)\n",
    "            valLoss += loss.item() * targets.size(0)\n",
    "        valLoss /= len(val_loader.dataset)\n",
    "        \n",
    "        print(f\"Epoch: {epoch}, Training Loss: {trainLoss}, Validation Loss: {valLoss}\")\n",
    "        "
   ]
  },
  {
   "cell_type": "code",
   "execution_count": 111,
   "metadata": {},
   "outputs": [],
   "source": [
    "loss_fn = nn.MSELoss()\n",
    "epochs = 20"
   ]
  },
  {
   "cell_type": "code",
   "execution_count": 112,
   "metadata": {},
   "outputs": [
    {
     "name": "stdout",
     "output_type": "stream",
     "text": [
      "Epoch: 1, Training Loss: 0.021717797718052597, Validation Loss: 0.023131016182942665\n",
      "Epoch: 2, Training Loss: 0.021255921179829322, Validation Loss: 0.022628078095796096\n",
      "Epoch: 3, Training Loss: 0.020802522793608058, Validation Loss: 0.023369876681125827\n",
      "Epoch: 4, Training Loss: 0.020401215637321224, Validation Loss: 0.022309250073167475\n",
      "Epoch: 5, Training Loss: 0.0199973158288494, Validation Loss: 0.02217084397151206\n",
      "Epoch: 6, Training Loss: 0.01956749842577108, Validation Loss: 0.021700463265279416\n",
      "Epoch: 7, Training Loss: 0.019308085440207415, Validation Loss: 0.02158643286725544\n",
      "Epoch: 8, Training Loss: 0.018971356692426607, Validation Loss: 0.0215726550737109\n",
      "Epoch: 9, Training Loss: 0.018626524396528996, Validation Loss: 0.021289496319526334\n",
      "Epoch: 10, Training Loss: 0.018392526028576463, Validation Loss: 0.020966414160874573\n",
      "Epoch: 11, Training Loss: 0.01813304516697432, Validation Loss: 0.02155991469985055\n",
      "Epoch: 12, Training Loss: 0.017823153707712334, Validation Loss: 0.020699104280454673\n",
      "Epoch: 13, Training Loss: 0.017663832721149988, Validation Loss: 0.02096062832841619\n",
      "Epoch: 14, Training Loss: 0.017420248441927126, Validation Loss: 0.020628757652666696\n",
      "Epoch: 15, Training Loss: 0.017249502215986097, Validation Loss: 0.02058831897173722\n",
      "Epoch: 16, Training Loss: 0.017041392221007194, Validation Loss: 0.0205374526770914\n",
      "Epoch: 17, Training Loss: 0.016917131641670784, Validation Loss: 0.020514215652683798\n",
      "Epoch: 18, Training Loss: 0.01673165380855444, Validation Loss: 0.02052949760562151\n",
      "Epoch: 19, Training Loss: 0.016520642596981643, Validation Loss: 0.020731319050418747\n",
      "Epoch: 20, Training Loss: 0.016411445526518968, Validation Loss: 0.020168179299776632\n"
     ]
    }
   ],
   "source": [
    "train(Model, optimizer, loss_fn, trainLoader, valLoader, epochs, device)"
   ]
  },
  {
   "cell_type": "code",
   "execution_count": 158,
   "metadata": {},
   "outputs": [],
   "source": [
    "torch.save(Model.state_dict(), 'Model.pth')"
   ]
  },
  {
   "cell_type": "code",
   "execution_count": 133,
   "metadata": {},
   "outputs": [
    {
     "name": "stdout",
     "output_type": "stream",
     "text": [
      "Test Loss: 0.021130094071323983\n"
     ]
    }
   ],
   "source": [
    "lossTest = 0\n",
    "for batch in testLoader:\n",
    "    movies, users, targets = batch\n",
    "    movies = movies.to(device)\n",
    "    users = users.to(device)\n",
    "    targets = targets.to(device)\n",
    "    output = Model(movies, users)\n",
    "    loss = loss_fn(output, targets)\n",
    "    lossTest += loss.item() * targets.size(0)\n",
    "    \n",
    "print(f\"Test Loss: {lossTest/len(testLoader.dataset)}\")\n",
    "    "
   ]
  },
  {
   "cell_type": "code",
   "execution_count": 153,
   "metadata": {},
   "outputs": [
    {
     "name": "stdout",
     "output_type": "stream",
     "text": [
      "     MovieId  Year    Rating  Action  Adventure  Animation  Children  Comedy  \\\n",
      "160     6283  2001  3.900000       1          0          1         0       0   \n",
      "171     6377  2003  3.960993       0          1          1         1       1   \n",
      "53      4886  2001  3.871212       0          1          1         1       1   \n",
      "575    68954  2009  4.004762       0          1          1         1       0   \n",
      "289     8961  2004  3.836000       1          1          1         1       1   \n",
      "108     5444  2002  3.810345       0          1          1         1       0   \n",
      "615    78499  2010  4.109091       0          1          1         1       1   \n",
      "122     5618  2001  4.155172       0          1          1         0       0   \n",
      "558    65261  2008  4.000000       0          1          1         1       0   \n",
      "606    76093  2010  3.943396       0          1          1         1       0   \n",
      "\n",
      "     Crime  Documentary  Drama  Fantasy  Film-Noir  Horror  IMAX  Musical  \\\n",
      "160      0            0      0        0          0       0     0        1   \n",
      "171      0            0      0        0          0       0     0        0   \n",
      "53       0            0      0        1          0       0     0        0   \n",
      "575      0            0      1        0          0       0     0        0   \n",
      "289      0            0      0        0          0       0     0        0   \n",
      "108      0            0      0        0          0       0     0        1   \n",
      "615      0            0      0        1          0       0     0        0   \n",
      "122      0            0      0        1          0       0     0        0   \n",
      "558      0            0      0        1          0       0     0        0   \n",
      "606      0            0      0        1          0       0     0        0   \n",
      "\n",
      "     Mystery  \n",
      "160        1  \n",
      "171        0  \n",
      "53         0  \n",
      "575        0  \n",
      "289        0  \n",
      "108        0  \n",
      "615        0  \n",
      "122        0  \n",
      "558        0  \n",
      "606        0  \n"
     ]
    },
    {
     "name": "stderr",
     "output_type": "stream",
     "text": [
      "c:\\Python312\\Lib\\site-packages\\sklearn\\base.py:493: UserWarning: X does not have valid feature names, but StandardScaler was fitted with feature names\n",
      "  warnings.warn(\n"
     ]
    }
   ],
   "source": [
    "testUser = [\n",
    "    123,  # user_id\n",
    "    3,    # rating_count\n",
    "    0.0,  # rating_average\n",
    "    0.0,  # action\n",
    "    5.0,  # adventure\n",
    "    10,  # animation\n",
    "    0.0,  # children's\n",
    "    0.0,  # comedy\n",
    "    0.0,  # crime\n",
    "    0.0,  # documentary\n",
    "    0.0,  # drama\n",
    "    5.0,  # fantasy\n",
    "    0.0,  # horror\n",
    "    0.0,  # mystery\n",
    "    0.0,  # romance\n",
    "    0.0,  # sci-fi\n",
    "    0.0   # thriller\n",
    "]\n",
    "\n",
    "userVecs = np.tile(testUser[3:], (moviesVecs.shape[0], 1))\n",
    "userVecsScaled = scalerUsers.transform(userVecs)\n",
    "\n",
    "moviesVecsScaled = scalerMovies.transform(moviesVecs.iloc[:, 1:])\n",
    "\n",
    "ratePredicted = Model(torch.tensor(moviesVecsScaled, dtype=torch.float32).to(device), torch.tensor(userVecsScaled, dtype=torch.float32).to(device))\n",
    "ratePredictedUnscaled = scalerY.inverse_transform(ratePredicted.cpu().detach().numpy().flatten().reshape(-1, 1))\n",
    "\n",
    "sortedIndexes = np.argsort(ratePredicted.cpu().detach().numpy().flatten())[::-1]\n",
    "sortedRates = ratePredictedUnscaled[sortedIndexes]\n",
    "sortedMovies = moviesVecs.iloc[sortedIndexes]\n",
    "\n",
    "print(sortedMovies.head(10))"
   ]
  }
 ],
 "metadata": {
  "kernelspec": {
   "display_name": "Python 3",
   "language": "python",
   "name": "python3"
  },
  "language_info": {
   "codemirror_mode": {
    "name": "ipython",
    "version": 3
   },
   "file_extension": ".py",
   "mimetype": "text/x-python",
   "name": "python",
   "nbconvert_exporter": "python",
   "pygments_lexer": "ipython3",
   "version": "3.12.6"
  }
 },
 "nbformat": 4,
 "nbformat_minor": 2
}
